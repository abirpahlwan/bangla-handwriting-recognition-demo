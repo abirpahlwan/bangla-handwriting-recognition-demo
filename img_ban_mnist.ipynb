{
 "cells": [
  {
   "cell_type": "code",
   "execution_count": null,
   "metadata": {
    "pycharm": {
     "is_executing": false,
     "name": "#%%\n"
    }
   },
   "outputs": [],
   "source": [
    "# from keras import optimizers\n",
    "from keras.models import Sequential\n",
    "from keras.layers import Activation, Input, Dense, Dropout, Flatten\n",
    "from keras.layers import Conv2D, MaxPooling2D\n",
    "# from keras import backend as K\n",
    "# from keras.models import Model\n",
    "# from keras.preprocessing.image import ImageDataGenerator\n",
    "# from keras.preprocessing.image import ImageDataGenerator, array_to_img, img_to_array, load_img\n",
    "\n",
    "# import tensorflow as tf\n",
    "# from tensorflow.python.tools import freeze_graph\n",
    "# from tensorflow.python.tools import optimize_for_inference_lib\n",
    "# from keras.optimizers import *\n",
    "from keras.utils import np_utils\n",
    "\n",
    "import numpy as np\n",
    "import matplotlib.pyplot as plt\n",
    "# import matplotlib\n",
    "import os\n",
    "# import theano\n",
    "from PIL import Image\n",
    "from numpy import *\n",
    "from sklearn.utils import shuffle\n",
    "from sklearn.model_selection import train_test_split"
   ]
  },
  {
   "cell_type": "code",
   "execution_count": null,
   "metadata": {
    "pycharm": {
     "is_executing": false,
     "name": "#%%\n"
    }
   },
   "outputs": [],
   "source": [
    "path = os.getcwd() + '\\\\data'\n",
    "path1 = path + '\\\\images'\n",
    "path2 = path + '\\\\images-resized'\n",
    "path3 = path + '\\\\test-images'\n",
    "path4 = path + '\\\\test-images-resized'\n",
    "\n",
    "listing = os.listdir(path1)\n",
    "predicting = os.listdir(path3)\n",
    "\n",
    "num_samples = size(listing)\n",
    "test_cases = size(predicting)\n",
    "\n",
    "print('Training samples: ', num_samples)\n",
    "print('Test cases: ', test_cases)"
   ]
  },
  {
   "cell_type": "code",
   "execution_count": null,
   "metadata": {
    "pycharm": {
     "is_executing": false,
     "name": "#%%\n"
    }
   },
   "outputs": [],
   "source": [
    "img_rows , img_cols = 28 , 28\n",
    "\n",
    "for file in listing:\n",
    "    im = Image.open(path1 + '\\\\' + file)\n",
    "    img = im.resize((img_rows, img_cols))\n",
    "    gray = img.convert('L')\n",
    "    \n",
    "    gray.save(path2 + '\\\\' + file, \"JPEG\" )\n",
    "\n",
    "for file in predicting:\n",
    "    im = Image.open(path3 + '\\\\' + file)\n",
    "    img = im.resize((img_rows, img_cols))\n",
    "    gray = img.convert('L')\n",
    "    \n",
    "    gray.save(path4 + '\\\\' + file, \"JPEG\" )\n",
    "\n",
    "imlist = os.listdir(path2)\n",
    "imlist.sort()\n",
    "immatrix = array([array(Image.open(path2 + '\\\\' + im)).flatten() for im in imlist] , 'f')\n",
    "\n",
    "testlist = os.listdir(path4)\n",
    "testlist.sort()\n",
    "testmatrix = array([array(Image.open(path4 + '\\\\' + im)).flatten() for im in testlist] , 'f')\n",
    "\n",
    "# m, n = immatrix.shape[0:2]"
   ]
  },
  {
   "cell_type": "code",
   "execution_count": null,
   "metadata": {
    "pycharm": {
     "is_executing": false,
     "name": "#%%\n"
    }
   },
   "outputs": [],
   "source": [
    "label = np.ones((num_samples,), dtype = int64 )\n",
    "label[0:9]=0\n",
    "label[9:17]=1\n",
    "label[17:28]=2\n",
    "label[28:38]=3\n",
    "label[38:48]=4\n",
    "label[48:59]=5\n",
    "label[59:68]=6\n",
    "label[68:80]=7\n",
    "label[80:88]=8\n",
    "label[88:99]=9\n",
    "print(label)\n",
    "\n",
    "truth = np.ones((test_cases,), dtype = int64 )\n",
    "truth[0]=9\n",
    "truth[1]=6\n",
    "truth[2]=2\n",
    "truth[3]=9\n",
    "truth[4]=8\n",
    "truth[5]=7\n",
    "truth[6]=2\n",
    "truth[7]=6\n",
    "truth[8]=3\n",
    "truth[9]=5\n",
    "truth[10]=5\n",
    "truth[11]=4\n",
    "truth[12]=3\n",
    "truth[13]=1\n",
    "print(truth)"
   ]
  },
  {
   "cell_type": "code",
   "execution_count": null,
   "metadata": {
    "pycharm": {
     "is_executing": false,
     "name": "#%%\n"
    }
   },
   "outputs": [],
   "source": [
    "data, labels = shuffle(immatrix, label, random_state=4)\n",
    "train_data = [data, labels]\n",
    "print(train_data[0].shape)\n",
    "print(train_data[1].shape)\n",
    "\n",
    "# data, truths = shuffle(testmatrix, truth)\n",
    "predict_data = [testmatrix, truth]\n",
    "print(predict_data[0].shape)\n",
    "print(predict_data[1].shape)\n",
    "\n",
    "plt.imshow(train_data[0][26].reshape(img_rows, img_cols))\n",
    "plt.imshow(predict_data[0][2].reshape(img_rows, img_cols))"
   ]
  },
  {
   "cell_type": "code",
   "execution_count": null,
   "metadata": {
    "pycharm": {
     "is_executing": false,
     "name": "#%%\n"
    }
   },
   "outputs": [],
   "source": [
    "# batch_size to train\n",
    "batch_size = 32\n",
    "\n",
    "# number of output classes\n",
    "classes = 10\n",
    "\n",
    "# number of epochs to train\n",
    "epochs = 20\n",
    "\n",
    "# size of pooling area for max pooling\n",
    "pool_size = 2\n",
    "\n",
    "# convolution kernel size\n",
    "kernel_size = 3"
   ]
  },
  {
   "cell_type": "code",
   "execution_count": null,
   "metadata": {
    "pycharm": {
     "is_executing": false,
     "name": "#%%\n"
    }
   },
   "outputs": [],
   "source": [
    "# (x, y) = (train_data[0], train_data[1])\n",
    "# plt.imshow(x[67].reshape(img_rows, img_cols), cmap='gray')\n",
    "\n",
    "x_train, x_test, y_train, y_test = train_test_split(train_data[0], train_data[1], test_size=0.2, random_state=4)\n",
    "print(x_train.shape)\n",
    "print( y_train.shape)\n",
    "\n",
    "pred_test, pred_truth = predict_data[0], predict_data[1]\n",
    "print(pred_test.shape)\n",
    "print(pred_truth.shape)"
   ]
  },
  {
   "cell_type": "code",
   "execution_count": null,
   "metadata": {
    "pycharm": {
     "is_executing": false,
     "name": "#%%\n"
    }
   },
   "outputs": [],
   "source": [
    "# x_train = x_train.reshape(x_train.shape[0], 1, img_rows, img_cols)\n",
    "# x_test = x_test.reshape(x_test.shape[0], 1, img_rows, img_cols)\n",
    "# input_shape=(1, img_rows, img_cols)\n",
    "\n",
    "x_train = x_train.reshape(x_train.shape[0], img_rows, img_cols, 1)\n",
    "x_test = x_test.reshape(x_test.shape[0], img_rows, img_cols, 1)\n",
    "pred_test = pred_test.reshape(pred_test.shape[0], img_rows, img_cols, 1)\n",
    "input_shape = (img_rows, img_cols, 1)\n",
    "\n",
    "print(x_train.shape)\n",
    "print(x_test.shape)\n",
    "print(pred_test.shape)"
   ]
  },
  {
   "cell_type": "code",
   "execution_count": null,
   "metadata": {
    "pycharm": {
     "is_executing": false,
     "name": "#%%\n"
    }
   },
   "outputs": [],
   "source": [
    "x_train = x_train.astype('float32') / 255\n",
    "x_test = x_test.astype('float32') / 255\n",
    "pred_test = pred_test.astype('float32') / 255\n",
    "\n",
    "print('x_train shape: ', x_train.shape)\n",
    "print('x_train samples: ', x_train.shape[0])\n",
    "print('x_test samples: ', x_test.shape[0])\n",
    "\n",
    "# convert class vectors to binary class matrices\n",
    "y_train = np_utils.to_categorical(y_train, classes)\n",
    "y_test = np_utils.to_categorical(y_test, classes)\n",
    "\n",
    "i = 67\n",
    "plt.imshow(x_train[i, 0], interpolation='nearest')\n",
    "print(\"label : \", y_train[i,:])"
   ]
  },
  {
   "cell_type": "code",
   "execution_count": null,
   "metadata": {
    "pycharm": {
     "is_executing": false,
     "name": "#%%\n"
    }
   },
   "outputs": [],
   "source": [
    "model = Sequential()\n",
    "\n",
    "model.add(Conv2D(32, (kernel_size, kernel_size), activation='relu', input_shape=input_shape))\n",
    "model.add(Conv2D(64, (kernel_size, kernel_size), activation='relu'))\n",
    "model.add(MaxPooling2D((pool_size, pool_size)))\n",
    "model.add(Dropout(0.25))\n",
    "\n",
    "model.add(Flatten())\n",
    "model.add(Dense(128, activation='relu'))\n",
    "model.add(Dropout(0.5))\n",
    "\n",
    "model.add(Dense(classes, activation='softmax'))\n",
    "\n",
    "model.compile(loss='categorical_crossentropy', optimizer='adadelta', metrics=['accuracy'])"
   ]
  },
  {
   "cell_type": "code",
   "execution_count": null,
   "metadata": {
    "pycharm": {
     "is_executing": false,
     "name": "#%%\n"
    }
   },
   "outputs": [],
   "source": [
    "model.fit(x_train, y_train, batch_size=batch_size, epochs=epochs, verbose=1, validation_data=(x_test, y_test))\n",
    "score = model.evaluate(x_test, y_test, verbose=0)\n",
    "print('Test loss:', score[0])\n",
    "print('Test accuracy:', score[1])"
   ]
  },
  {
   "cell_type": "code",
   "execution_count": null,
   "metadata": {
    "pycharm": {
     "is_executing": false,
     "name": "#%%\n"
    }
   },
   "outputs": [],
   "source": [
    "t = 13\n",
    "prediction = model.predict_classes(pred_test[t:t+1])\n",
    "plt.imshow(pred_test[t].reshape(img_rows, img_cols), cmap='gray')\n",
    "print('Prediction :', prediction)"
   ]
  }
 ],
 "metadata": {
  "kernelspec": {
   "display_name": "Python 3",
   "language": "python",
   "name": "python3"
  },
  "language_info": {
   "codemirror_mode": {
    "name": "ipython",
    "version": 3
   },
   "file_extension": ".py",
   "mimetype": "text/x-python",
   "name": "python",
   "nbconvert_exporter": "python",
   "pygments_lexer": "ipython3",
   "version": "3.7.7"
  },
  "pycharm": {
   "stem_cell": {
    "cell_type": "raw",
    "source": [],
    "metadata": {
     "collapsed": false
    }
   }
  }
 },
 "nbformat": 4,
 "nbformat_minor": 2
}
